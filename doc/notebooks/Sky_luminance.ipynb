{
 "cells": [
  {
   "cell_type": "markdown",
   "id": "ce86e8d9",
   "metadata": {},
   "source": [
    "# Modelling sky luminance"
   ]
  },
  {
   "cell_type": "markdown",
   "id": "8a2bbf60",
   "metadata": {},
   "source": [
    "In this tutorial, we will show how astk can be used to model sky luminance, that is how to input natural light conditions for simulating light interception"
   ]
  },
  {
   "cell_type": "code",
   "execution_count": null,
   "id": "d4217984",
   "metadata": {},
   "outputs": [],
   "source": [
    "from openalea.astk.sky_map import sky_grid, sky_map, show_sky\n",
    "from openalea.astk.meteorology.sky_luminance import sky_luminance, scale_sky_sources\n",
    "from openalea.astk.meteorology.sky_irradiance import sky_irradiance\n",
    "from openalea.astk.icosphere import turtle_mesh, spherical_face_centers, sky_turtle\n",
    "from oawidgets.plantgl import PlantGL"
   ]
  },
  {
   "cell_type": "markdown",
   "id": "4869aec0",
   "metadata": {},
   "source": [
    "## Estimate sky irradiance"
   ]
  },
  {
   "cell_type": "markdown",
   "id": "63785182",
   "metadata": {},
   "source": [
    "By default , astk simulate one day long clear sky irradiance at Montpellier, the 21 of June 2000.\n",
    "For computing sky irradiance at your location or for longer/shorter perido of time, see 'Modeling sky irradiance' companion tutorial"
   ]
  },
  {
   "cell_type": "code",
   "execution_count": null,
   "id": "451b1229",
   "metadata": {},
   "outputs": [],
   "source": [
    "sky_irr = sky_irradiance()\n",
    "sky_irr"
   ]
  },
  {
   "cell_type": "markdown",
   "id": "be342dc1",
   "metadata": {},
   "source": [
    "## Estimate sky relative luminance"
   ]
  },
  {
   "cell_type": "markdown",
   "id": "e5edbe9d",
   "metadata": {},
   "source": [
    "* Sky luminance is estimated from sky irradiances, using Perez all weather sky model (R. Perez, R. Seals, J. Michalsky, \"All-weather model for sky luminance distribution—Preliminary configuration and validation\", Solar Energy, Volume 50, Issue 3, 1993, Pages 235-245)\n",
    "* Luminance is computed every steradian of the sky hemisphere\n",
    "* Luminance are scaled to ensure a global horizontal irradiance of 1"
   ]
  },
  {
   "cell_type": "code",
   "execution_count": null,
   "id": "ede65060",
   "metadata": {},
   "outputs": [],
   "source": [
    "grid=sky_grid()\n",
    "lum=sky_luminance(grid, 'all_weather', sky_irr)"
   ]
  },
  {
   "cell_type": "code",
   "execution_count": null,
   "id": "43f643de",
   "metadata": {},
   "outputs": [],
   "source": [
    "show_sky(grid, lum)"
   ]
  },
  {
   "cell_type": "markdown",
   "id": "f481fae4",
   "metadata": {},
   "source": [
    "## Define sky discretisation"
   ]
  },
  {
   "cell_type": "markdown",
   "id": "dad34005",
   "metadata": {},
   "source": [
    "* Sky discretisation allow to split the sky in a limited number of direction for efficiency of light modelling.\n",
    "* other strategies can be found in the companon tutorial"
   ]
  },
  {
   "cell_type": "code",
   "execution_count": null,
   "id": "83710a79",
   "metadata": {},
   "outputs": [],
   "source": [
    "sky_mesh = turtle_mesh(46)\n",
    "targets = spherical_face_centers(sky_mesh)\n",
    "sky_sources, skymap = sky_map(grid, lum, targets)\n",
    "show_sky(grid,skymap)"
   ]
  },
  {
   "cell_type": "markdown",
   "id": "eb7577f3",
   "metadata": {},
   "source": [
    "##  ligth sources"
   ]
  },
  {
   "cell_type": "markdown",
   "id": "f4360e2f",
   "metadata": {},
   "source": [
    "##### light sources are given as elevation, azimuth, relative_luminance tuples, that can be scaled to :\n",
    " * global luminance ('Wm2' [W.m-2.s-1])\n",
    " * PAR luminance ('PPFD', [micromol.m-2.s-1])\n",
    " * global luminance integrated over the time period ('MJ', [MJ.m-2])\n",
    " * PAR luminance integrated over the time-periode ('molPAR', [mol.m-2])\n",
    " Other Strategies can be found in companion tutorial"
   ]
  },
  {
   "cell_type": "code",
   "execution_count": null,
   "id": "5673473a",
   "metadata": {},
   "outputs": [],
   "source": [
    "sky_sources = scale_sky_sources(sky_sources, sky_irr,'Wm2')"
   ]
  },
  {
   "cell_type": "code",
   "execution_count": null,
   "id": "b0334e5c-848a-4513-be95-47d6960be33c",
   "metadata": {},
   "outputs": [],
   "source": [
    "sky=sky_turtle(sky_mesh,sky_sources)"
   ]
  },
  {
   "cell_type": "code",
   "execution_count": null,
   "id": "c9b5a01a-35d1-4e7f-b259-df097b80d6d2",
   "metadata": {
    "editable": true,
    "slideshow": {
     "slide_type": ""
    },
    "tags": []
   },
   "outputs": [],
   "source": [
    "PlantGL(sky)"
   ]
  }
 ],
 "metadata": {
  "kernelspec": {
   "display_name": "Python 3 (ipykernel)",
   "language": "python",
   "name": "python3"
  },
  "language_info": {
   "codemirror_mode": {
    "name": "ipython",
    "version": 3
   },
   "file_extension": ".py",
   "mimetype": "text/x-python",
   "name": "python",
   "nbconvert_exporter": "python",
   "pygments_lexer": "ipython3",
   "version": "3.12.3"
  },
  "widgets": {
   "application/vnd.jupyter.widget-state+json": {
    "state": {},
    "version_major": 2,
    "version_minor": 0
   }
  }
 },
 "nbformat": 4,
 "nbformat_minor": 5
}
