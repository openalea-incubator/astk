{
 "cells": [
  {
   "cell_type": "markdown",
   "metadata": {},
   "source": [
    "# Modelling sun and sky light sources"
   ]
  },
  {
   "cell_type": "markdown",
   "metadata": {},
   "source": [
    "This notebook explain how to use astk functions to simulate the natural lighting of a scene.\n",
    "This consist of defining a finite set of direction (i.ie. a set of elevation, azimuth) + a set irradiances representing the sky and the sun for a given period.\n",
    "It is generlly easier to compute the relative irradiance of sources (their sum always equal 1), and to multiply by mean irradiance or total amoount of light depending on the application. This approach is the one demonstrated here."
   ]
  },
  {
   "cell_type": "markdown",
   "metadata": {},
   "source": [
    "## Imports and setup location"
   ]
  },
  {
   "cell_type": "code",
   "execution_count": 16,
   "metadata": {
    "scrolled": true
   },
   "outputs": [],
   "source": [
    "%gui qt\n",
    "import openalea #hack namespace error\n",
    "import alinea.astk\n",
    "from alinea.astk.data_access import montpellier_spring_2013\n",
    "from alinea.astk.meteorology.sky_irradiance import sky_irradiances\n",
    "from alinea.astk.sun_and_sky import sky_sources, sun_sky_sources"
   ]
  },
  {
   "cell_type": "markdown",
   "metadata": {},
   "source": [
    "Specify a location on earth:"
   ]
  },
  {
   "cell_type": "code",
   "execution_count": 2,
   "metadata": {},
   "outputs": [],
   "source": [
    "Montpellier ={\n",
    "'longitude': 3.87,\n",
    "'latitude': 43.61,\n",
    "'altitude': 56,\n",
    "'timezone': 'Europe/Paris'}"
   ]
  },
  {
   "cell_type": "markdown",
   "metadata": {},
   "source": [
    "get some meteorological data"
   ]
  },
  {
   "cell_type": "code",
   "execution_count": 3,
   "metadata": {
    "scrolled": true
   },
   "outputs": [],
   "source": [
    "meteo_data = montpellier_spring_2013()"
   ]
  },
  {
   "cell_type": "code",
   "execution_count": 4,
   "metadata": {},
   "outputs": [
    {
     "data": {
      "text/html": [
       "<div>\n",
       "<style scoped>\n",
       "    .dataframe tbody tr th:only-of-type {\n",
       "        vertical-align: middle;\n",
       "    }\n",
       "\n",
       "    .dataframe tbody tr th {\n",
       "        vertical-align: top;\n",
       "    }\n",
       "\n",
       "    .dataframe thead th {\n",
       "        text-align: right;\n",
       "    }\n",
       "</style>\n",
       "<table border=\"1\" class=\"dataframe\">\n",
       "  <thead>\n",
       "    <tr style=\"text-align: right;\">\n",
       "      <th></th>\n",
       "      <th>ghi</th>\n",
       "    </tr>\n",
       "    <tr>\n",
       "      <th>Unnamed: 0</th>\n",
       "      <th></th>\n",
       "    </tr>\n",
       "  </thead>\n",
       "  <tbody>\n",
       "    <tr>\n",
       "      <th>2013-05-21 00:00:00+02:00</th>\n",
       "      <td>0.000000</td>\n",
       "    </tr>\n",
       "    <tr>\n",
       "      <th>2013-05-21 01:00:00+02:00</th>\n",
       "      <td>0.000000</td>\n",
       "    </tr>\n",
       "    <tr>\n",
       "      <th>2013-05-21 02:00:00+02:00</th>\n",
       "      <td>0.000000</td>\n",
       "    </tr>\n",
       "    <tr>\n",
       "      <th>2013-05-21 03:00:00+02:00</th>\n",
       "      <td>0.000000</td>\n",
       "    </tr>\n",
       "    <tr>\n",
       "      <th>2013-05-21 04:00:00+02:00</th>\n",
       "      <td>0.000000</td>\n",
       "    </tr>\n",
       "    <tr>\n",
       "      <th>...</th>\n",
       "      <td>...</td>\n",
       "    </tr>\n",
       "    <tr>\n",
       "      <th>2013-07-04 19:00:00+02:00</th>\n",
       "      <td>270.550000</td>\n",
       "    </tr>\n",
       "    <tr>\n",
       "      <th>2013-07-04 20:00:00+02:00</th>\n",
       "      <td>103.850000</td>\n",
       "    </tr>\n",
       "    <tr>\n",
       "      <th>2013-07-04 21:00:00+02:00</th>\n",
       "      <td>6.016667</td>\n",
       "    </tr>\n",
       "    <tr>\n",
       "      <th>2013-07-04 22:00:00+02:00</th>\n",
       "      <td>0.000000</td>\n",
       "    </tr>\n",
       "    <tr>\n",
       "      <th>2013-07-04 23:00:00+02:00</th>\n",
       "      <td>0.000000</td>\n",
       "    </tr>\n",
       "  </tbody>\n",
       "</table>\n",
       "<p>1080 rows × 1 columns</p>\n",
       "</div>"
      ],
      "text/plain": [
       "                                  ghi\n",
       "Unnamed: 0                           \n",
       "2013-05-21 00:00:00+02:00    0.000000\n",
       "2013-05-21 01:00:00+02:00    0.000000\n",
       "2013-05-21 02:00:00+02:00    0.000000\n",
       "2013-05-21 03:00:00+02:00    0.000000\n",
       "2013-05-21 04:00:00+02:00    0.000000\n",
       "...                               ...\n",
       "2013-07-04 19:00:00+02:00  270.550000\n",
       "2013-07-04 20:00:00+02:00  103.850000\n",
       "2013-07-04 21:00:00+02:00    6.016667\n",
       "2013-07-04 22:00:00+02:00    0.000000\n",
       "2013-07-04 23:00:00+02:00    0.000000\n",
       "\n",
       "[1080 rows x 1 columns]"
      ]
     },
     "execution_count": 4,
     "metadata": {},
     "output_type": "execute_result"
    }
   ],
   "source": [
    "meteo_data"
   ]
  },
  {
   "cell_type": "markdown",
   "metadata": {},
   "source": [
    "## General principles"
   ]
  },
  {
   "cell_type": "markdown",
   "metadata": {},
   "source": [
    " - By convention, for processes occuring at earth surface (convention are different in astronomy !), the radiation fluxes are not expressed in terms of radiance of sources (total energetic flux emiited by the source), but in terms of irradiance of a horizontal unit placed at earth surface(total energetic flux passing through a square meter of ground). \n",
    " - The standard measurement of radiation at earth surface is the global horizontal irradiance (ghi, W.m-2.s-1)), that captures radiations coming from the sun and from the sky in the shortwave domain (visible light)\n",
    " - The sun contribution is called direct irradiance, whereas sky contribution is called diffuse irradiance\n",
    " - Instantaneous direct irradiance can be represented by one light source (the sun)\n",
    " - Diffuse irradiance can be represented by several light sources sampling the sky hemisphere. The contribution of each of these sources depends on weather condition (sunny, cloudy, ...) and can be determined by using a sky luminance model.\n",
    " - Direct irradiance varies with time, and so does the position of the sun\n",
    " - Diffuse irradiance varies with time, but the poistion of the sources can be kept constant. \n"
   ]
  },
  {
   "cell_type": "markdown",
   "metadata": {},
   "source": [
    "## Simulating difuse light conditions"
   ]
  },
  {
   "cell_type": "markdown",
   "metadata": {},
   "source": [
    "   - When the sky is very cloudy, direct light equals zero, and diffuse light is almost uniform among sky sources as long as cloudy condition last. The absolute value of global horizontal irradiance is varying with time or between two days, but the relative contributions of the different sky sources to ghi does not vary.\n",
    "   - The positioning and the relative contribution of sky sources to global horizontal irradiance for cloudy conditions can be obtained by the following function that used the 'standard overcast condition' sky luminance model, and make the integration of luminance so that one source capture the portion of sky arround it:"
   ]
  },
  {
   "cell_type": "code",
   "execution_count": 5,
   "metadata": {},
   "outputs": [
    {
     "data": {
      "text/plain": [
       "array([0.15986923, 0.04397197, 0.04397197, 0.04397197, 0.04397197,\n",
       "       0.04397197, 0.11305245, 0.11305245, 0.11305245, 0.11305245,\n",
       "       0.11305245, 0.01100174, 0.01100174, 0.01100174, 0.01100174,\n",
       "       0.01100174])"
      ]
     },
     "execution_count": 5,
     "metadata": {},
     "output_type": "execute_result"
    }
   ],
   "source": [
    "sky = sky_sources(turtle_sectors=16)\n",
    "#skys.show_sources(sky)\n",
    "elevation, azimuth, irradiance = sky\n",
    "irradiance"
   ]
  },
  {
   "cell_type": "markdown",
   "metadata": {},
   "source": [
    "  - turtle sector indicate the number of sources sampling the sky hemisphere (possible values are 6, 16 and 46)"
   ]
  },
  {
   "cell_type": "code",
   "execution_count": 6,
   "metadata": {},
   "outputs": [
    {
     "data": {
      "text/plain": [
       "1.0000000000000002"
      ]
     },
     "execution_count": 6,
     "metadata": {},
     "output_type": "execute_result"
    }
   ],
   "source": [
    "sum(irradiance)"
   ]
  },
  {
   "cell_type": "markdown",
   "metadata": {},
   "source": [
    "- Lighting the scene with such light is done like before, yielding the distribution of irradiance within the plant"
   ]
  },
  {
   "cell_type": "code",
   "execution_count": 7,
   "metadata": {},
   "outputs": [],
   "source": [
    "#cscene, raw, agg = ltfs.illuminate(lscene, light=sky, scene_unit='cm')\n",
    "#scene, _ = cscene.plot(raw, maxval=1.01)\n",
    "#skys.show_sources(sky,scene=scene, distance=15, radius=0.3)"
   ]
  },
  {
   "cell_type": "markdown",
   "metadata": {},
   "source": [
    "* Muliplying the results by ghi (instantaneous or averaged over time) yields absolute irradiance values on organs"
   ]
  },
  {
   "cell_type": "code",
   "execution_count": 15,
   "metadata": {},
   "outputs": [
    {
     "data": {
      "text/plain": [
       "(137.94282490295114, 137.18468003683014)"
      ]
     },
     "execution_count": 15,
     "metadata": {},
     "output_type": "execute_result"
    }
   ],
   "source": [
    " sky_irr = sky_irradiances(daydate='2000-06-21', attenuation=0.25, **Montpellier)\n",
    "sky_irr.ghi.mean(),sky_irr.dhi.mean()"
   ]
  },
  {
   "cell_type": "markdown",
   "metadata": {},
   "source": [
    "## Simulating clear sky conditions"
   ]
  },
  {
   "cell_type": "code",
   "execution_count": null,
   "metadata": {},
   "outputs": [],
   "source": []
  },
  {
   "cell_type": "markdown",
   "metadata": {},
   "source": [
    "* On clear days, 80% of the radiation is coming from the sun, that is from the south-oriented hemisphere. Moreover, sun irradiance is also varying as a function of time of the day.\n",
    "* In such case, it is recomended to add sun sources in addition to sky sources. Generaly one position per hour is added "
   ]
  },
  {
   "cell_type": "code",
   "execution_count": null,
   "metadata": {},
   "outputs": [],
   "source": [
    "sky_irr, sun, sky = sun_sky_sources(daydate='2000-06-21', **Montpellier) \n",
    "#sources = skys.add_sources(sun, sky)\n",
    "\n",
    "#\n",
    "#cscene, raw, agg = ltfs.illuminate(lscene, light=sources, scene_unit='cm', north=180)\n",
    "#scene, _ = cscene.plot(raw)\n",
    "#skys.show_sources(sources,scene=scene, distance=15, radius=0.3, north=180)"
   ]
  },
  {
   "cell_type": "markdown",
   "metadata": {},
   "source": [
    "- north is the angle (deg, positive clockwise) from X+ to North. It should be pass both to illuminate AND show_source function"
   ]
  },
  {
   "cell_type": "markdown",
   "metadata": {},
   "source": [
    "## Simulating actual irradiances"
   ]
  },
  {
   "cell_type": "markdown",
   "metadata": {},
   "source": [
    "In general, meteorological conditions are between overcast and clear sky conditions. The cursor between theses two extremes is a function of the ratio between actual irradiance (measured) and clear sky irradiance. "
   ]
  },
  {
   "cell_type": "code",
   "execution_count": 11,
   "metadata": {},
   "outputs": [
    {
     "data": {
      "text/plain": [
       "2013-05-26 00:00:00+02:00      0.000000\n",
       "2013-05-26 01:00:00+02:00      0.000000\n",
       "2013-05-26 02:00:00+02:00      0.000000\n",
       "2013-05-26 03:00:00+02:00      0.000000\n",
       "2013-05-26 04:00:00+02:00      0.000000\n",
       "2013-05-26 05:00:00+02:00      0.000000\n",
       "2013-05-26 06:00:00+02:00     31.615385\n",
       "2013-05-26 07:00:00+02:00    166.370370\n",
       "2013-05-26 08:00:00+02:00    335.425926\n",
       "2013-05-26 09:00:00+02:00    505.481481\n",
       "2013-05-26 10:00:00+02:00    660.689655\n",
       "2013-05-26 11:00:00+02:00    783.516667\n",
       "2013-05-26 12:00:00+02:00    865.300000\n",
       "2013-05-26 13:00:00+02:00    887.883333\n",
       "2013-05-26 14:00:00+02:00    843.233333\n",
       "2013-05-26 15:00:00+02:00    861.366667\n",
       "2013-05-26 16:00:00+02:00    700.766667\n",
       "2013-05-26 17:00:00+02:00    576.966667\n",
       "2013-05-26 18:00:00+02:00    415.766667\n",
       "2013-05-26 19:00:00+02:00    241.550000\n",
       "2013-05-26 20:00:00+02:00     68.566667\n",
       "2013-05-26 21:00:00+02:00      1.433333\n",
       "2013-05-26 22:00:00+02:00      0.000000\n",
       "2013-05-26 23:00:00+02:00      0.000000\n",
       "2013-05-27 00:00:00+02:00      0.000000\n",
       "Freq: H, Name: ghi, dtype: float64"
      ]
     },
     "execution_count": 11,
     "metadata": {},
     "output_type": "execute_result"
    }
   ],
   "source": [
    "observed = skys.actual_irradiance('2013-05-26', meteo_data)\n",
    "observed"
   ]
  },
  {
   "cell_type": "code",
   "execution_count": 12,
   "metadata": {},
   "outputs": [
    {
     "data": {
      "text/plain": [
       "<openalea.plantgl.scenegraph._pglsg.Scene at 0x24dd30e90b0>"
      ]
     },
     "execution_count": 12,
     "metadata": {},
     "output_type": "execute_result"
    }
   ],
   "source": [
    "sun, sky = skys.sun_sky_sources(ghi=observed, dates=observed.index, normalisation=1, **Montpellier) \n",
    "sources = skys.add_sources(sun, sky)\n",
    "#\n",
    "cscene, raw, agg = ltfs.illuminate(lscene, light=sources, scene_unit='cm', north=180)\n",
    "scene, _ = cscene.plot(raw)\n",
    "skys.show_sources(sources,scene=scene, distance=15, radius=0.3, north=180)"
   ]
  },
  {
   "cell_type": "code",
   "execution_count": null,
   "metadata": {},
   "outputs": [],
   "source": []
  }
 ],
 "metadata": {
  "kernelspec": {
   "display_name": "Python 3 (ipykernel)",
   "language": "python",
   "name": "python3"
  },
  "language_info": {
   "codemirror_mode": {
    "name": "ipython",
    "version": 3
   },
   "file_extension": ".py",
   "mimetype": "text/x-python",
   "name": "python",
   "nbconvert_exporter": "python",
   "pygments_lexer": "ipython3",
   "version": "3.8.15"
  }
 },
 "nbformat": 4,
 "nbformat_minor": 1
}
