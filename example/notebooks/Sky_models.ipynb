{
 "cells": [
  {
   "cell_type": "markdown",
   "metadata": {},
   "source": [
    "# Modelling sun and sky light sources"
   ]
  },
  {
   "cell_type": "markdown",
   "metadata": {},
   "source": [
    "- This notebook explain how to use astk functions to simulate the natural lighting of a scene.\n",
    "- This consist of defining a finite set of direction (i.ie. a set of elevation, azimuth) + a set irradiances representing the sky and the sun for a given period.\n",
    "- It is generally easier to compute the relative irradiance of sources (so that their sum equal 1), and to multiply by mean irradiance or total amount of light depending on the application. This approach is the one demonstrated here."
   ]
  },
  {
   "cell_type": "markdown",
   "metadata": {},
   "source": [
    "## Conventions"
   ]
  },
  {
   "cell_type": "markdown",
   "metadata": {},
   "source": [
    " - Radiation fluxes are expressed in terms of irradiance of a horizontal unit placed at earth surface(total energetic flux passing through a square meter of ground). \n",
    " - The standard measurement of radiation at earth surface is the global horizontal irradiance (ghi, W.m-2 i.e. J.m-2.s-1), that captures radiations coming from the sun and from the sky in the shortwave domain (visible light)\n",
    " - The sun contribution is called direct normal irradiance (dni), whereas sky contribution is called diffuse horizontal irradiance (dhi)"
   ]
  },
  {
   "cell_type": "markdown",
   "metadata": {},
   "source": [
    "## Imports and setup location"
   ]
  },
  {
   "cell_type": "code",
   "execution_count": 1,
   "metadata": {
    "scrolled": true
   },
   "outputs": [],
   "source": [
    "%gui qt\n",
    "import alinea.astk\n",
    "from alinea.astk.data_access import montpellier_spring_2013\n",
    "from alinea.astk.meteorology.sky_irradiance import sky_irradiances\n",
    "from alinea.astk.sun_and_sky import sky_sources, sun_sky_sources"
   ]
  },
  {
   "cell_type": "markdown",
   "metadata": {},
   "source": [
    "Specify a location on earth:"
   ]
  },
  {
   "cell_type": "code",
   "execution_count": 2,
   "metadata": {},
   "outputs": [],
   "source": [
    "Montpellier ={\n",
    "'longitude': 3.87,\n",
    "'latitude': 43.61,\n",
    "'altitude': 56,\n",
    "'timezone': 'Europe/Paris'}"
   ]
  },
  {
   "cell_type": "code",
   "execution_count": 3,
   "metadata": {},
   "outputs": [
    {
     "data": {
      "text/plain": [
       "{'longitude': 3.87,\n",
       " 'latitude': 43.61,\n",
       " 'altitude': 56,\n",
       " 'timezone': 'Europe/Paris'}"
      ]
     },
     "execution_count": 3,
     "metadata": {},
     "output_type": "execute_result"
    }
   ],
   "source": [
    "Montpellier"
   ]
  },
  {
   "cell_type": "markdown",
   "metadata": {},
   "source": [
    "## Simulating difuse light conditions"
   ]
  },
  {
   "cell_type": "markdown",
   "metadata": {},
   "source": [
    "   - When the sky is very cloudy, direct light equals zero, and diffuse light is almost uniform among sky sources as long as cloudy condition last. The absolute value of global horizontal irradiance is varying with time or between two days, but the relative contributions of the different sky sources to ghi does not vary.\n",
    "   - The positioning and the relative contribution of sky sources to global horizontal irradiance for cloudy conditions can be obtained by the following function that used the 'standard overcast condition' sky luminance model, and make the integration of luminance so that one source capture the portion of sky arround it:"
   ]
  },
  {
   "cell_type": "code",
   "execution_count": 4,
   "metadata": {},
   "outputs": [
    {
     "data": {
      "text/plain": [
       "array([0.15986923, 0.04397197, 0.04397197, 0.04397197, 0.04397197,\n",
       "       0.04397197, 0.11305245, 0.11305245, 0.11305245, 0.11305245,\n",
       "       0.11305245, 0.01100174, 0.01100174, 0.01100174, 0.01100174,\n",
       "       0.01100174])"
      ]
     },
     "execution_count": 4,
     "metadata": {},
     "output_type": "execute_result"
    }
   ],
   "source": [
    "sky = sky_sources(turtle_sectors=16)\n",
    "#skys.show_sources(sky)\n",
    "elevation, azimuth, irradiance = sky\n",
    "irradiance"
   ]
  },
  {
   "cell_type": "markdown",
   "metadata": {},
   "source": [
    "  - turtle sector indicate the number of sources sampling the sky hemisphere (possible values are 6, 16 and 46)"
   ]
  },
  {
   "cell_type": "code",
   "execution_count": 5,
   "metadata": {},
   "outputs": [
    {
     "data": {
      "text/plain": [
       "1.0000000000000002"
      ]
     },
     "execution_count": 5,
     "metadata": {},
     "output_type": "execute_result"
    }
   ],
   "source": [
    "sum(irradiance)"
   ]
  },
  {
   "cell_type": "markdown",
   "metadata": {},
   "source": [
    "- Lighting the scene with such light is done like before, yielding the distribution of irradiance within the plant"
   ]
  },
  {
   "cell_type": "code",
   "execution_count": 6,
   "metadata": {},
   "outputs": [],
   "source": [
    "#cscene, raw, agg = ltfs.illuminate(lscene, light=sky, scene_unit='cm')\n",
    "#scene, _ = cscene.plot(raw, maxval=1.01)\n",
    "#skys.show_sources(sky,scene=scene, distance=15, radius=0.3)"
   ]
  },
  {
   "cell_type": "markdown",
   "metadata": {},
   "source": [
    "* Muliplying the results by ghi (instantaneous or averaged over time) yields absolute irradiance values on organs"
   ]
  },
  {
   "cell_type": "code",
   "execution_count": 8,
   "metadata": {},
   "outputs": [
    {
     "data": {
      "text/plain": [
       "(137.94282490295114, 137.18468003683014)"
      ]
     },
     "execution_count": 8,
     "metadata": {},
     "output_type": "execute_result"
    }
   ],
   "source": [
    " sky_irr = sky_irradiances(daydate='2000-06-21', attenuation=0.25, **Montpellier)\n",
    "sky_irr.ghi.mean(),sky_irr.dhi.mean()"
   ]
  },
  {
   "cell_type": "code",
   "execution_count": 9,
   "metadata": {},
   "outputs": [
    {
     "data": {
      "text/html": [
       "<div>\n",
       "<style scoped>\n",
       "    .dataframe tbody tr th:only-of-type {\n",
       "        vertical-align: middle;\n",
       "    }\n",
       "\n",
       "    .dataframe tbody tr th {\n",
       "        vertical-align: top;\n",
       "    }\n",
       "\n",
       "    .dataframe thead th {\n",
       "        text-align: right;\n",
       "    }\n",
       "</style>\n",
       "<table border=\"1\" class=\"dataframe\">\n",
       "  <thead>\n",
       "    <tr style=\"text-align: right;\">\n",
       "      <th></th>\n",
       "      <th>azimuth</th>\n",
       "      <th>zenith</th>\n",
       "      <th>elevation</th>\n",
       "      <th>clearness</th>\n",
       "      <th>brightness</th>\n",
       "      <th>ghi</th>\n",
       "      <th>dni</th>\n",
       "      <th>dhi</th>\n",
       "    </tr>\n",
       "  </thead>\n",
       "  <tbody>\n",
       "    <tr>\n",
       "      <th>2000-06-21 07:00:00+02:00</th>\n",
       "      <td>65.222522</td>\n",
       "      <td>81.781574</td>\n",
       "      <td>8.218426</td>\n",
       "      <td>1.000000</td>\n",
       "      <td>0.087529</td>\n",
       "      <td>17.402057</td>\n",
       "      <td>0.000000</td>\n",
       "      <td>17.402057</td>\n",
       "    </tr>\n",
       "    <tr>\n",
       "      <th>2000-06-21 08:00:00+02:00</th>\n",
       "      <td>74.723897</td>\n",
       "      <td>71.647009</td>\n",
       "      <td>18.352991</td>\n",
       "      <td>1.000000</td>\n",
       "      <td>0.143055</td>\n",
       "      <td>60.435420</td>\n",
       "      <td>0.000000</td>\n",
       "      <td>60.435420</td>\n",
       "    </tr>\n",
       "    <tr>\n",
       "      <th>2000-06-21 09:00:00+02:00</th>\n",
       "      <td>84.230207</td>\n",
       "      <td>61.003100</td>\n",
       "      <td>28.996900</td>\n",
       "      <td>1.000000</td>\n",
       "      <td>0.165523</td>\n",
       "      <td>107.069357</td>\n",
       "      <td>0.000000</td>\n",
       "      <td>107.069357</td>\n",
       "    </tr>\n",
       "    <tr>\n",
       "      <th>2000-06-21 10:00:00+02:00</th>\n",
       "      <td>94.525066</td>\n",
       "      <td>50.169169</td>\n",
       "      <td>39.830831</td>\n",
       "      <td>1.000000</td>\n",
       "      <td>0.176735</td>\n",
       "      <td>150.817077</td>\n",
       "      <td>0.000000</td>\n",
       "      <td>150.817077</td>\n",
       "    </tr>\n",
       "    <tr>\n",
       "      <th>2000-06-21 11:00:00+02:00</th>\n",
       "      <td>106.936113</td>\n",
       "      <td>39.517644</td>\n",
       "      <td>50.482356</td>\n",
       "      <td>1.002645</td>\n",
       "      <td>0.182443</td>\n",
       "      <td>187.903059</td>\n",
       "      <td>0.664856</td>\n",
       "      <td>187.390170</td>\n",
       "    </tr>\n",
       "    <tr>\n",
       "      <th>2000-06-21 12:00:00+02:00</th>\n",
       "      <td>124.101947</td>\n",
       "      <td>29.712676</td>\n",
       "      <td>60.287324</td>\n",
       "      <td>1.004560</td>\n",
       "      <td>0.185581</td>\n",
       "      <td>215.517829</td>\n",
       "      <td>1.120370</td>\n",
       "      <td>214.544764</td>\n",
       "    </tr>\n",
       "    <tr>\n",
       "      <th>2000-06-21 13:00:00+02:00</th>\n",
       "      <td>150.974668</td>\n",
       "      <td>22.305842</td>\n",
       "      <td>67.694158</td>\n",
       "      <td>1.013752</td>\n",
       "      <td>0.185633</td>\n",
       "      <td>231.659389</td>\n",
       "      <td>3.336463</td>\n",
       "      <td>228.572590</td>\n",
       "    </tr>\n",
       "    <tr>\n",
       "      <th>2000-06-21 14:00:00+02:00</th>\n",
       "      <td>189.036867</td>\n",
       "      <td>20.362593</td>\n",
       "      <td>69.637407</td>\n",
       "      <td>1.014207</td>\n",
       "      <td>0.185897</td>\n",
       "      <td>235.177442</td>\n",
       "      <td>3.449277</td>\n",
       "      <td>231.943712</td>\n",
       "    </tr>\n",
       "    <tr>\n",
       "      <th>2000-06-21 15:00:00+02:00</th>\n",
       "      <td>222.847350</td>\n",
       "      <td>25.217800</td>\n",
       "      <td>64.782200</td>\n",
       "      <td>1.005178</td>\n",
       "      <td>0.186591</td>\n",
       "      <td>225.822742</td>\n",
       "      <td>1.266676</td>\n",
       "      <td>224.676786</td>\n",
       "    </tr>\n",
       "    <tr>\n",
       "      <th>2000-06-21 16:00:00+02:00</th>\n",
       "      <td>244.565120</td>\n",
       "      <td>34.007293</td>\n",
       "      <td>55.992707</td>\n",
       "      <td>1.003821</td>\n",
       "      <td>0.184385</td>\n",
       "      <td>204.259004</td>\n",
       "      <td>0.946751</td>\n",
       "      <td>203.474179</td>\n",
       "    </tr>\n",
       "    <tr>\n",
       "      <th>2000-06-21 17:00:00+02:00</th>\n",
       "      <td>259.103202</td>\n",
       "      <td>44.316289</td>\n",
       "      <td>45.683711</td>\n",
       "      <td>1.009050</td>\n",
       "      <td>0.178828</td>\n",
       "      <td>172.031973</td>\n",
       "      <td>2.285008</td>\n",
       "      <td>170.397063</td>\n",
       "    </tr>\n",
       "    <tr>\n",
       "      <th>2000-06-21 18:00:00+02:00</th>\n",
       "      <td>270.327385</td>\n",
       "      <td>55.107908</td>\n",
       "      <td>34.892092</td>\n",
       "      <td>1.000000</td>\n",
       "      <td>0.172476</td>\n",
       "      <td>131.512951</td>\n",
       "      <td>0.000000</td>\n",
       "      <td>131.512951</td>\n",
       "    </tr>\n",
       "    <tr>\n",
       "      <th>2000-06-21 19:00:00+02:00</th>\n",
       "      <td>280.142111</td>\n",
       "      <td>65.894619</td>\n",
       "      <td>24.105381</td>\n",
       "      <td>1.000000</td>\n",
       "      <td>0.157370</td>\n",
       "      <td>85.900632</td>\n",
       "      <td>0.000000</td>\n",
       "      <td>85.900632</td>\n",
       "    </tr>\n",
       "    <tr>\n",
       "      <th>2000-06-21 20:00:00+02:00</th>\n",
       "      <td>289.566812</td>\n",
       "      <td>76.349471</td>\n",
       "      <td>13.650529</td>\n",
       "      <td>1.000000</td>\n",
       "      <td>0.124519</td>\n",
       "      <td>39.728056</td>\n",
       "      <td>0.000000</td>\n",
       "      <td>39.728056</td>\n",
       "    </tr>\n",
       "    <tr>\n",
       "      <th>2000-06-21 21:00:00+02:00</th>\n",
       "      <td>299.258754</td>\n",
       "      <td>86.099097</td>\n",
       "      <td>3.900903</td>\n",
       "      <td>1.000000</td>\n",
       "      <td>0.036813</td>\n",
       "      <td>3.905386</td>\n",
       "      <td>0.000000</td>\n",
       "      <td>3.905386</td>\n",
       "    </tr>\n",
       "  </tbody>\n",
       "</table>\n",
       "</div>"
      ],
      "text/plain": [
       "                              azimuth     zenith  elevation  clearness   \n",
       "2000-06-21 07:00:00+02:00   65.222522  81.781574   8.218426   1.000000  \\\n",
       "2000-06-21 08:00:00+02:00   74.723897  71.647009  18.352991   1.000000   \n",
       "2000-06-21 09:00:00+02:00   84.230207  61.003100  28.996900   1.000000   \n",
       "2000-06-21 10:00:00+02:00   94.525066  50.169169  39.830831   1.000000   \n",
       "2000-06-21 11:00:00+02:00  106.936113  39.517644  50.482356   1.002645   \n",
       "2000-06-21 12:00:00+02:00  124.101947  29.712676  60.287324   1.004560   \n",
       "2000-06-21 13:00:00+02:00  150.974668  22.305842  67.694158   1.013752   \n",
       "2000-06-21 14:00:00+02:00  189.036867  20.362593  69.637407   1.014207   \n",
       "2000-06-21 15:00:00+02:00  222.847350  25.217800  64.782200   1.005178   \n",
       "2000-06-21 16:00:00+02:00  244.565120  34.007293  55.992707   1.003821   \n",
       "2000-06-21 17:00:00+02:00  259.103202  44.316289  45.683711   1.009050   \n",
       "2000-06-21 18:00:00+02:00  270.327385  55.107908  34.892092   1.000000   \n",
       "2000-06-21 19:00:00+02:00  280.142111  65.894619  24.105381   1.000000   \n",
       "2000-06-21 20:00:00+02:00  289.566812  76.349471  13.650529   1.000000   \n",
       "2000-06-21 21:00:00+02:00  299.258754  86.099097   3.900903   1.000000   \n",
       "\n",
       "                           brightness         ghi       dni         dhi  \n",
       "2000-06-21 07:00:00+02:00    0.087529   17.402057  0.000000   17.402057  \n",
       "2000-06-21 08:00:00+02:00    0.143055   60.435420  0.000000   60.435420  \n",
       "2000-06-21 09:00:00+02:00    0.165523  107.069357  0.000000  107.069357  \n",
       "2000-06-21 10:00:00+02:00    0.176735  150.817077  0.000000  150.817077  \n",
       "2000-06-21 11:00:00+02:00    0.182443  187.903059  0.664856  187.390170  \n",
       "2000-06-21 12:00:00+02:00    0.185581  215.517829  1.120370  214.544764  \n",
       "2000-06-21 13:00:00+02:00    0.185633  231.659389  3.336463  228.572590  \n",
       "2000-06-21 14:00:00+02:00    0.185897  235.177442  3.449277  231.943712  \n",
       "2000-06-21 15:00:00+02:00    0.186591  225.822742  1.266676  224.676786  \n",
       "2000-06-21 16:00:00+02:00    0.184385  204.259004  0.946751  203.474179  \n",
       "2000-06-21 17:00:00+02:00    0.178828  172.031973  2.285008  170.397063  \n",
       "2000-06-21 18:00:00+02:00    0.172476  131.512951  0.000000  131.512951  \n",
       "2000-06-21 19:00:00+02:00    0.157370   85.900632  0.000000   85.900632  \n",
       "2000-06-21 20:00:00+02:00    0.124519   39.728056  0.000000   39.728056  \n",
       "2000-06-21 21:00:00+02:00    0.036813    3.905386  0.000000    3.905386  "
      ]
     },
     "execution_count": 9,
     "metadata": {},
     "output_type": "execute_result"
    }
   ],
   "source": [
    "sky_irr"
   ]
  },
  {
   "cell_type": "markdown",
   "metadata": {},
   "source": [
    "## Simulating clear sky conditions"
   ]
  },
  {
   "cell_type": "code",
   "execution_count": null,
   "metadata": {},
   "outputs": [],
   "source": []
  },
  {
   "cell_type": "markdown",
   "metadata": {},
   "source": [
    "* On clear days, 80% of the radiation is coming from the sun, that is from the south-oriented hemisphere. Moreover, sun irradiance is also varying as a function of time of the day.\n",
    "* In such case, it is recomended to add sun sources in addition to sky sources. Generaly one position per hour is added "
   ]
  },
  {
   "cell_type": "code",
   "execution_count": null,
   "metadata": {},
   "outputs": [],
   "source": [
    "sky_irr, sun, sky = sun_sky_sources(daydate='2000-06-21', **Montpellier) \n",
    "#sources = skys.add_sources(sun, sky)\n",
    "\n",
    "#\n",
    "#cscene, raw, agg = ltfs.illuminate(lscene, light=sources, scene_unit='cm', north=180)\n",
    "#scene, _ = cscene.plot(raw)\n",
    "#skys.show_sources(sources,scene=scene, distance=15, radius=0.3, north=180)"
   ]
  },
  {
   "cell_type": "markdown",
   "metadata": {},
   "source": [
    "- north is the angle (deg, positive clockwise) from X+ to North. It should be pass both to illuminate AND show_source function"
   ]
  },
  {
   "cell_type": "markdown",
   "metadata": {},
   "source": [
    "## Simulating actual irradiances"
   ]
  },
  {
   "cell_type": "markdown",
   "metadata": {},
   "source": [
    "In general, meteorological conditions are between overcast and clear sky conditions. The cursor between theses two extremes is a function of the ratio between actual irradiance (measured) and clear sky irradiance. "
   ]
  },
  {
   "cell_type": "markdown",
   "metadata": {},
   "source": [
    "get some meteorological data"
   ]
  },
  {
   "cell_type": "code",
   "execution_count": 3,
   "metadata": {
    "scrolled": true
   },
   "outputs": [],
   "source": [
    "meteo_data = montpellier_spring_2013()"
   ]
  },
  {
   "cell_type": "code",
   "execution_count": 4,
   "metadata": {
    "scrolled": true
   },
   "outputs": [
    {
     "data": {
      "text/html": [
       "<div>\n",
       "<style scoped>\n",
       "    .dataframe tbody tr th:only-of-type {\n",
       "        vertical-align: middle;\n",
       "    }\n",
       "\n",
       "    .dataframe tbody tr th {\n",
       "        vertical-align: top;\n",
       "    }\n",
       "\n",
       "    .dataframe thead th {\n",
       "        text-align: right;\n",
       "    }\n",
       "</style>\n",
       "<table border=\"1\" class=\"dataframe\">\n",
       "  <thead>\n",
       "    <tr style=\"text-align: right;\">\n",
       "      <th></th>\n",
       "      <th>ghi</th>\n",
       "    </tr>\n",
       "    <tr>\n",
       "      <th>Unnamed: 0</th>\n",
       "      <th></th>\n",
       "    </tr>\n",
       "  </thead>\n",
       "  <tbody>\n",
       "    <tr>\n",
       "      <th>2013-05-21 00:00:00+02:00</th>\n",
       "      <td>0.000000</td>\n",
       "    </tr>\n",
       "    <tr>\n",
       "      <th>2013-05-21 01:00:00+02:00</th>\n",
       "      <td>0.000000</td>\n",
       "    </tr>\n",
       "    <tr>\n",
       "      <th>2013-05-21 02:00:00+02:00</th>\n",
       "      <td>0.000000</td>\n",
       "    </tr>\n",
       "    <tr>\n",
       "      <th>2013-05-21 03:00:00+02:00</th>\n",
       "      <td>0.000000</td>\n",
       "    </tr>\n",
       "    <tr>\n",
       "      <th>2013-05-21 04:00:00+02:00</th>\n",
       "      <td>0.000000</td>\n",
       "    </tr>\n",
       "    <tr>\n",
       "      <th>...</th>\n",
       "      <td>...</td>\n",
       "    </tr>\n",
       "    <tr>\n",
       "      <th>2013-07-04 19:00:00+02:00</th>\n",
       "      <td>270.550000</td>\n",
       "    </tr>\n",
       "    <tr>\n",
       "      <th>2013-07-04 20:00:00+02:00</th>\n",
       "      <td>103.850000</td>\n",
       "    </tr>\n",
       "    <tr>\n",
       "      <th>2013-07-04 21:00:00+02:00</th>\n",
       "      <td>6.016667</td>\n",
       "    </tr>\n",
       "    <tr>\n",
       "      <th>2013-07-04 22:00:00+02:00</th>\n",
       "      <td>0.000000</td>\n",
       "    </tr>\n",
       "    <tr>\n",
       "      <th>2013-07-04 23:00:00+02:00</th>\n",
       "      <td>0.000000</td>\n",
       "    </tr>\n",
       "  </tbody>\n",
       "</table>\n",
       "<p>1080 rows × 1 columns</p>\n",
       "</div>"
      ],
      "text/plain": [
       "                                  ghi\n",
       "Unnamed: 0                           \n",
       "2013-05-21 00:00:00+02:00    0.000000\n",
       "2013-05-21 01:00:00+02:00    0.000000\n",
       "2013-05-21 02:00:00+02:00    0.000000\n",
       "2013-05-21 03:00:00+02:00    0.000000\n",
       "2013-05-21 04:00:00+02:00    0.000000\n",
       "...                               ...\n",
       "2013-07-04 19:00:00+02:00  270.550000\n",
       "2013-07-04 20:00:00+02:00  103.850000\n",
       "2013-07-04 21:00:00+02:00    6.016667\n",
       "2013-07-04 22:00:00+02:00    0.000000\n",
       "2013-07-04 23:00:00+02:00    0.000000\n",
       "\n",
       "[1080 rows x 1 columns]"
      ]
     },
     "execution_count": 4,
     "metadata": {},
     "output_type": "execute_result"
    }
   ],
   "source": [
    "meteo_data"
   ]
  },
  {
   "cell_type": "code",
   "execution_count": 11,
   "metadata": {},
   "outputs": [
    {
     "data": {
      "text/plain": [
       "2013-05-26 00:00:00+02:00      0.000000\n",
       "2013-05-26 01:00:00+02:00      0.000000\n",
       "2013-05-26 02:00:00+02:00      0.000000\n",
       "2013-05-26 03:00:00+02:00      0.000000\n",
       "2013-05-26 04:00:00+02:00      0.000000\n",
       "2013-05-26 05:00:00+02:00      0.000000\n",
       "2013-05-26 06:00:00+02:00     31.615385\n",
       "2013-05-26 07:00:00+02:00    166.370370\n",
       "2013-05-26 08:00:00+02:00    335.425926\n",
       "2013-05-26 09:00:00+02:00    505.481481\n",
       "2013-05-26 10:00:00+02:00    660.689655\n",
       "2013-05-26 11:00:00+02:00    783.516667\n",
       "2013-05-26 12:00:00+02:00    865.300000\n",
       "2013-05-26 13:00:00+02:00    887.883333\n",
       "2013-05-26 14:00:00+02:00    843.233333\n",
       "2013-05-26 15:00:00+02:00    861.366667\n",
       "2013-05-26 16:00:00+02:00    700.766667\n",
       "2013-05-26 17:00:00+02:00    576.966667\n",
       "2013-05-26 18:00:00+02:00    415.766667\n",
       "2013-05-26 19:00:00+02:00    241.550000\n",
       "2013-05-26 20:00:00+02:00     68.566667\n",
       "2013-05-26 21:00:00+02:00      1.433333\n",
       "2013-05-26 22:00:00+02:00      0.000000\n",
       "2013-05-26 23:00:00+02:00      0.000000\n",
       "2013-05-27 00:00:00+02:00      0.000000\n",
       "Freq: H, Name: ghi, dtype: float64"
      ]
     },
     "execution_count": 11,
     "metadata": {},
     "output_type": "execute_result"
    }
   ],
   "source": [
    "observed = skys.actual_irradiance('2013-05-26', meteo_data)\n",
    "observed"
   ]
  },
  {
   "cell_type": "code",
   "execution_count": 12,
   "metadata": {},
   "outputs": [
    {
     "data": {
      "text/plain": [
       "<openalea.plantgl.scenegraph._pglsg.Scene at 0x24dd30e90b0>"
      ]
     },
     "execution_count": 12,
     "metadata": {},
     "output_type": "execute_result"
    }
   ],
   "source": [
    "sun, sky = skys.sun_sky_sources(ghi=observed, dates=observed.index, normalisation=1, **Montpellier) \n",
    "sources = skys.add_sources(sun, sky)\n",
    "#\n",
    "cscene, raw, agg = ltfs.illuminate(lscene, light=sources, scene_unit='cm', north=180)\n",
    "scene, _ = cscene.plot(raw)\n",
    "skys.show_sources(sources,scene=scene, distance=15, radius=0.3, north=180)"
   ]
  },
  {
   "cell_type": "code",
   "execution_count": null,
   "metadata": {},
   "outputs": [],
   "source": []
  }
 ],
 "metadata": {
  "kernelspec": {
   "display_name": "Python 3 (ipykernel)",
   "language": "python",
   "name": "python3"
  },
  "language_info": {
   "codemirror_mode": {
    "name": "ipython",
    "version": 3
   },
   "file_extension": ".py",
   "mimetype": "text/x-python",
   "name": "python",
   "nbconvert_exporter": "python",
   "pygments_lexer": "ipython3",
   "version": "3.8.15"
  }
 },
 "nbformat": 4,
 "nbformat_minor": 1
}
